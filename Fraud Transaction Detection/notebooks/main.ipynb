{
 "cells": [
  {
   "cell_type": "markdown",
   "id": "a43c880c-4dfc-4b02-bb8d-63ae7ee564d9",
   "metadata": {},
   "source": [
    "# Fraud Transaction Detection"
   ]
  },
  {
   "cell_type": "code",
   "execution_count": null,
   "id": "04e5e201-1f7d-441d-9358-d930fd45621c",
   "metadata": {},
   "outputs": [],
   "source": []
  }
 ],
 "metadata": {
  "kernelspec": {
   "display_name": "DataScience_env",
   "language": "python",
   "name": "datascience_env"
  },
  "language_info": {
   "codemirror_mode": {
    "name": "ipython",
    "version": 3
   },
   "file_extension": ".py",
   "mimetype": "text/x-python",
   "name": "python",
   "nbconvert_exporter": "python",
   "pygments_lexer": "ipython3",
   "version": "3.10.14"
  }
 },
 "nbformat": 4,
 "nbformat_minor": 5
}
